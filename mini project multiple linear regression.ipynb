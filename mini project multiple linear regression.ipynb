{
 "cells": [
  {
   "cell_type": "code",
   "execution_count": 1,
   "id": "81bfc836",
   "metadata": {},
   "outputs": [],
   "source": [
    "import numpy as tr\n",
    "import pandas as dr"
   ]
  },
  {
   "cell_type": "code",
   "execution_count": 2,
   "id": "3484da4b",
   "metadata": {},
   "outputs": [],
   "source": [
    "import matplotlib.pyplot as plt\n",
    "%matplotlib inline"
   ]
  },
  {
   "cell_type": "code",
   "execution_count": 3,
   "id": "1767d25a",
   "metadata": {},
   "outputs": [],
   "source": [
    "import seaborn as sns"
   ]
  },
  {
   "cell_type": "code",
   "execution_count": 4,
   "id": "9bdc757d",
   "metadata": {},
   "outputs": [
    {
     "data": {
      "text/plain": [
       "['anagrams',\n",
       " 'anscombe',\n",
       " 'attention',\n",
       " 'brain_networks',\n",
       " 'car_crashes',\n",
       " 'diamonds',\n",
       " 'dots',\n",
       " 'exercise',\n",
       " 'flights',\n",
       " 'fmri',\n",
       " 'gammas',\n",
       " 'geyser',\n",
       " 'iris',\n",
       " 'mpg',\n",
       " 'penguins',\n",
       " 'planets',\n",
       " 'taxis',\n",
       " 'tips',\n",
       " 'titanic']"
      ]
     },
     "execution_count": 4,
     "metadata": {},
     "output_type": "execute_result"
    }
   ],
   "source": [
    "sns.get_dataset_names()"
   ]
  },
  {
   "cell_type": "code",
   "execution_count": 5,
   "id": "f0bb57d4",
   "metadata": {},
   "outputs": [],
   "source": [
    "dataset = sns.load_dataset('taxis')"
   ]
  },
  {
   "cell_type": "code",
   "execution_count": 6,
   "id": "c3643fa2",
   "metadata": {},
   "outputs": [
    {
     "data": {
      "text/html": [
       "<div>\n",
       "<style scoped>\n",
       "    .dataframe tbody tr th:only-of-type {\n",
       "        vertical-align: middle;\n",
       "    }\n",
       "\n",
       "    .dataframe tbody tr th {\n",
       "        vertical-align: top;\n",
       "    }\n",
       "\n",
       "    .dataframe thead th {\n",
       "        text-align: right;\n",
       "    }\n",
       "</style>\n",
       "<table border=\"1\" class=\"dataframe\">\n",
       "  <thead>\n",
       "    <tr style=\"text-align: right;\">\n",
       "      <th></th>\n",
       "      <th>pickup</th>\n",
       "      <th>dropoff</th>\n",
       "      <th>passengers</th>\n",
       "      <th>distance</th>\n",
       "      <th>fare</th>\n",
       "      <th>tip</th>\n",
       "      <th>tolls</th>\n",
       "      <th>total</th>\n",
       "      <th>color</th>\n",
       "      <th>payment</th>\n",
       "      <th>pickup_zone</th>\n",
       "      <th>dropoff_zone</th>\n",
       "      <th>pickup_borough</th>\n",
       "      <th>dropoff_borough</th>\n",
       "    </tr>\n",
       "  </thead>\n",
       "  <tbody>\n",
       "    <tr>\n",
       "      <th>0</th>\n",
       "      <td>2019-03-23 20:21:09</td>\n",
       "      <td>2019-03-23 20:27:24</td>\n",
       "      <td>1</td>\n",
       "      <td>1.60</td>\n",
       "      <td>7.0</td>\n",
       "      <td>2.15</td>\n",
       "      <td>0.0</td>\n",
       "      <td>12.95</td>\n",
       "      <td>yellow</td>\n",
       "      <td>credit card</td>\n",
       "      <td>Lenox Hill West</td>\n",
       "      <td>UN/Turtle Bay South</td>\n",
       "      <td>Manhattan</td>\n",
       "      <td>Manhattan</td>\n",
       "    </tr>\n",
       "    <tr>\n",
       "      <th>1</th>\n",
       "      <td>2019-03-04 16:11:55</td>\n",
       "      <td>2019-03-04 16:19:00</td>\n",
       "      <td>1</td>\n",
       "      <td>0.79</td>\n",
       "      <td>5.0</td>\n",
       "      <td>0.00</td>\n",
       "      <td>0.0</td>\n",
       "      <td>9.30</td>\n",
       "      <td>yellow</td>\n",
       "      <td>cash</td>\n",
       "      <td>Upper West Side South</td>\n",
       "      <td>Upper West Side South</td>\n",
       "      <td>Manhattan</td>\n",
       "      <td>Manhattan</td>\n",
       "    </tr>\n",
       "    <tr>\n",
       "      <th>2</th>\n",
       "      <td>2019-03-27 17:53:01</td>\n",
       "      <td>2019-03-27 18:00:25</td>\n",
       "      <td>1</td>\n",
       "      <td>1.37</td>\n",
       "      <td>7.5</td>\n",
       "      <td>2.36</td>\n",
       "      <td>0.0</td>\n",
       "      <td>14.16</td>\n",
       "      <td>yellow</td>\n",
       "      <td>credit card</td>\n",
       "      <td>Alphabet City</td>\n",
       "      <td>West Village</td>\n",
       "      <td>Manhattan</td>\n",
       "      <td>Manhattan</td>\n",
       "    </tr>\n",
       "    <tr>\n",
       "      <th>3</th>\n",
       "      <td>2019-03-10 01:23:59</td>\n",
       "      <td>2019-03-10 01:49:51</td>\n",
       "      <td>1</td>\n",
       "      <td>7.70</td>\n",
       "      <td>27.0</td>\n",
       "      <td>6.15</td>\n",
       "      <td>0.0</td>\n",
       "      <td>36.95</td>\n",
       "      <td>yellow</td>\n",
       "      <td>credit card</td>\n",
       "      <td>Hudson Sq</td>\n",
       "      <td>Yorkville West</td>\n",
       "      <td>Manhattan</td>\n",
       "      <td>Manhattan</td>\n",
       "    </tr>\n",
       "    <tr>\n",
       "      <th>4</th>\n",
       "      <td>2019-03-30 13:27:42</td>\n",
       "      <td>2019-03-30 13:37:14</td>\n",
       "      <td>3</td>\n",
       "      <td>2.16</td>\n",
       "      <td>9.0</td>\n",
       "      <td>1.10</td>\n",
       "      <td>0.0</td>\n",
       "      <td>13.40</td>\n",
       "      <td>yellow</td>\n",
       "      <td>credit card</td>\n",
       "      <td>Midtown East</td>\n",
       "      <td>Yorkville West</td>\n",
       "      <td>Manhattan</td>\n",
       "      <td>Manhattan</td>\n",
       "    </tr>\n",
       "    <tr>\n",
       "      <th>...</th>\n",
       "      <td>...</td>\n",
       "      <td>...</td>\n",
       "      <td>...</td>\n",
       "      <td>...</td>\n",
       "      <td>...</td>\n",
       "      <td>...</td>\n",
       "      <td>...</td>\n",
       "      <td>...</td>\n",
       "      <td>...</td>\n",
       "      <td>...</td>\n",
       "      <td>...</td>\n",
       "      <td>...</td>\n",
       "      <td>...</td>\n",
       "      <td>...</td>\n",
       "    </tr>\n",
       "    <tr>\n",
       "      <th>6428</th>\n",
       "      <td>2019-03-31 09:51:53</td>\n",
       "      <td>2019-03-31 09:55:27</td>\n",
       "      <td>1</td>\n",
       "      <td>0.75</td>\n",
       "      <td>4.5</td>\n",
       "      <td>1.06</td>\n",
       "      <td>0.0</td>\n",
       "      <td>6.36</td>\n",
       "      <td>green</td>\n",
       "      <td>credit card</td>\n",
       "      <td>East Harlem North</td>\n",
       "      <td>Central Harlem North</td>\n",
       "      <td>Manhattan</td>\n",
       "      <td>Manhattan</td>\n",
       "    </tr>\n",
       "    <tr>\n",
       "      <th>6429</th>\n",
       "      <td>2019-03-31 17:38:00</td>\n",
       "      <td>2019-03-31 18:34:23</td>\n",
       "      <td>1</td>\n",
       "      <td>18.74</td>\n",
       "      <td>58.0</td>\n",
       "      <td>0.00</td>\n",
       "      <td>0.0</td>\n",
       "      <td>58.80</td>\n",
       "      <td>green</td>\n",
       "      <td>credit card</td>\n",
       "      <td>Jamaica</td>\n",
       "      <td>East Concourse/Concourse Village</td>\n",
       "      <td>Queens</td>\n",
       "      <td>Bronx</td>\n",
       "    </tr>\n",
       "    <tr>\n",
       "      <th>6430</th>\n",
       "      <td>2019-03-23 22:55:18</td>\n",
       "      <td>2019-03-23 23:14:25</td>\n",
       "      <td>1</td>\n",
       "      <td>4.14</td>\n",
       "      <td>16.0</td>\n",
       "      <td>0.00</td>\n",
       "      <td>0.0</td>\n",
       "      <td>17.30</td>\n",
       "      <td>green</td>\n",
       "      <td>cash</td>\n",
       "      <td>Crown Heights North</td>\n",
       "      <td>Bushwick North</td>\n",
       "      <td>Brooklyn</td>\n",
       "      <td>Brooklyn</td>\n",
       "    </tr>\n",
       "    <tr>\n",
       "      <th>6431</th>\n",
       "      <td>2019-03-04 10:09:25</td>\n",
       "      <td>2019-03-04 10:14:29</td>\n",
       "      <td>1</td>\n",
       "      <td>1.12</td>\n",
       "      <td>6.0</td>\n",
       "      <td>0.00</td>\n",
       "      <td>0.0</td>\n",
       "      <td>6.80</td>\n",
       "      <td>green</td>\n",
       "      <td>credit card</td>\n",
       "      <td>East New York</td>\n",
       "      <td>East Flatbush/Remsen Village</td>\n",
       "      <td>Brooklyn</td>\n",
       "      <td>Brooklyn</td>\n",
       "    </tr>\n",
       "    <tr>\n",
       "      <th>6432</th>\n",
       "      <td>2019-03-13 19:31:22</td>\n",
       "      <td>2019-03-13 19:48:02</td>\n",
       "      <td>1</td>\n",
       "      <td>3.85</td>\n",
       "      <td>15.0</td>\n",
       "      <td>3.36</td>\n",
       "      <td>0.0</td>\n",
       "      <td>20.16</td>\n",
       "      <td>green</td>\n",
       "      <td>credit card</td>\n",
       "      <td>Boerum Hill</td>\n",
       "      <td>Windsor Terrace</td>\n",
       "      <td>Brooklyn</td>\n",
       "      <td>Brooklyn</td>\n",
       "    </tr>\n",
       "  </tbody>\n",
       "</table>\n",
       "<p>6433 rows × 14 columns</p>\n",
       "</div>"
      ],
      "text/plain": [
       "                   pickup              dropoff  passengers  distance  fare  \\\n",
       "0     2019-03-23 20:21:09  2019-03-23 20:27:24           1      1.60   7.0   \n",
       "1     2019-03-04 16:11:55  2019-03-04 16:19:00           1      0.79   5.0   \n",
       "2     2019-03-27 17:53:01  2019-03-27 18:00:25           1      1.37   7.5   \n",
       "3     2019-03-10 01:23:59  2019-03-10 01:49:51           1      7.70  27.0   \n",
       "4     2019-03-30 13:27:42  2019-03-30 13:37:14           3      2.16   9.0   \n",
       "...                   ...                  ...         ...       ...   ...   \n",
       "6428  2019-03-31 09:51:53  2019-03-31 09:55:27           1      0.75   4.5   \n",
       "6429  2019-03-31 17:38:00  2019-03-31 18:34:23           1     18.74  58.0   \n",
       "6430  2019-03-23 22:55:18  2019-03-23 23:14:25           1      4.14  16.0   \n",
       "6431  2019-03-04 10:09:25  2019-03-04 10:14:29           1      1.12   6.0   \n",
       "6432  2019-03-13 19:31:22  2019-03-13 19:48:02           1      3.85  15.0   \n",
       "\n",
       "       tip  tolls  total   color      payment            pickup_zone  \\\n",
       "0     2.15    0.0  12.95  yellow  credit card        Lenox Hill West   \n",
       "1     0.00    0.0   9.30  yellow         cash  Upper West Side South   \n",
       "2     2.36    0.0  14.16  yellow  credit card          Alphabet City   \n",
       "3     6.15    0.0  36.95  yellow  credit card              Hudson Sq   \n",
       "4     1.10    0.0  13.40  yellow  credit card           Midtown East   \n",
       "...    ...    ...    ...     ...          ...                    ...   \n",
       "6428  1.06    0.0   6.36   green  credit card      East Harlem North   \n",
       "6429  0.00    0.0  58.80   green  credit card                Jamaica   \n",
       "6430  0.00    0.0  17.30   green         cash    Crown Heights North   \n",
       "6431  0.00    0.0   6.80   green  credit card          East New York   \n",
       "6432  3.36    0.0  20.16   green  credit card            Boerum Hill   \n",
       "\n",
       "                          dropoff_zone pickup_borough dropoff_borough  \n",
       "0                  UN/Turtle Bay South      Manhattan       Manhattan  \n",
       "1                Upper West Side South      Manhattan       Manhattan  \n",
       "2                         West Village      Manhattan       Manhattan  \n",
       "3                       Yorkville West      Manhattan       Manhattan  \n",
       "4                       Yorkville West      Manhattan       Manhattan  \n",
       "...                                ...            ...             ...  \n",
       "6428              Central Harlem North      Manhattan       Manhattan  \n",
       "6429  East Concourse/Concourse Village         Queens           Bronx  \n",
       "6430                    Bushwick North       Brooklyn        Brooklyn  \n",
       "6431      East Flatbush/Remsen Village       Brooklyn        Brooklyn  \n",
       "6432                   Windsor Terrace       Brooklyn        Brooklyn  \n",
       "\n",
       "[6433 rows x 14 columns]"
      ]
     },
     "execution_count": 6,
     "metadata": {},
     "output_type": "execute_result"
    }
   ],
   "source": [
    "dataset"
   ]
  },
  {
   "cell_type": "code",
   "execution_count": 12,
   "id": "decb9d89",
   "metadata": {},
   "outputs": [],
   "source": [
    "data = dataset.drop(['dropoff','pickup','passengers','distance','tolls','payment','pickup_zone','dropoff_zone','color','pickup_borough','dropoff_borough'],axis=1)"
   ]
  },
  {
   "cell_type": "code",
   "execution_count": 13,
   "id": "b141c7f0",
   "metadata": {},
   "outputs": [
    {
     "data": {
      "text/html": [
       "<div>\n",
       "<style scoped>\n",
       "    .dataframe tbody tr th:only-of-type {\n",
       "        vertical-align: middle;\n",
       "    }\n",
       "\n",
       "    .dataframe tbody tr th {\n",
       "        vertical-align: top;\n",
       "    }\n",
       "\n",
       "    .dataframe thead th {\n",
       "        text-align: right;\n",
       "    }\n",
       "</style>\n",
       "<table border=\"1\" class=\"dataframe\">\n",
       "  <thead>\n",
       "    <tr style=\"text-align: right;\">\n",
       "      <th></th>\n",
       "      <th>fare</th>\n",
       "      <th>tip</th>\n",
       "      <th>total</th>\n",
       "    </tr>\n",
       "  </thead>\n",
       "  <tbody>\n",
       "    <tr>\n",
       "      <th>0</th>\n",
       "      <td>7.0</td>\n",
       "      <td>2.15</td>\n",
       "      <td>12.95</td>\n",
       "    </tr>\n",
       "    <tr>\n",
       "      <th>1</th>\n",
       "      <td>5.0</td>\n",
       "      <td>0.00</td>\n",
       "      <td>9.30</td>\n",
       "    </tr>\n",
       "    <tr>\n",
       "      <th>2</th>\n",
       "      <td>7.5</td>\n",
       "      <td>2.36</td>\n",
       "      <td>14.16</td>\n",
       "    </tr>\n",
       "    <tr>\n",
       "      <th>3</th>\n",
       "      <td>27.0</td>\n",
       "      <td>6.15</td>\n",
       "      <td>36.95</td>\n",
       "    </tr>\n",
       "    <tr>\n",
       "      <th>4</th>\n",
       "      <td>9.0</td>\n",
       "      <td>1.10</td>\n",
       "      <td>13.40</td>\n",
       "    </tr>\n",
       "    <tr>\n",
       "      <th>...</th>\n",
       "      <td>...</td>\n",
       "      <td>...</td>\n",
       "      <td>...</td>\n",
       "    </tr>\n",
       "    <tr>\n",
       "      <th>6428</th>\n",
       "      <td>4.5</td>\n",
       "      <td>1.06</td>\n",
       "      <td>6.36</td>\n",
       "    </tr>\n",
       "    <tr>\n",
       "      <th>6429</th>\n",
       "      <td>58.0</td>\n",
       "      <td>0.00</td>\n",
       "      <td>58.80</td>\n",
       "    </tr>\n",
       "    <tr>\n",
       "      <th>6430</th>\n",
       "      <td>16.0</td>\n",
       "      <td>0.00</td>\n",
       "      <td>17.30</td>\n",
       "    </tr>\n",
       "    <tr>\n",
       "      <th>6431</th>\n",
       "      <td>6.0</td>\n",
       "      <td>0.00</td>\n",
       "      <td>6.80</td>\n",
       "    </tr>\n",
       "    <tr>\n",
       "      <th>6432</th>\n",
       "      <td>15.0</td>\n",
       "      <td>3.36</td>\n",
       "      <td>20.16</td>\n",
       "    </tr>\n",
       "  </tbody>\n",
       "</table>\n",
       "<p>6433 rows × 3 columns</p>\n",
       "</div>"
      ],
      "text/plain": [
       "      fare   tip  total\n",
       "0      7.0  2.15  12.95\n",
       "1      5.0  0.00   9.30\n",
       "2      7.5  2.36  14.16\n",
       "3     27.0  6.15  36.95\n",
       "4      9.0  1.10  13.40\n",
       "...    ...   ...    ...\n",
       "6428   4.5  1.06   6.36\n",
       "6429  58.0  0.00  58.80\n",
       "6430  16.0  0.00  17.30\n",
       "6431   6.0  0.00   6.80\n",
       "6432  15.0  3.36  20.16\n",
       "\n",
       "[6433 rows x 3 columns]"
      ]
     },
     "execution_count": 13,
     "metadata": {},
     "output_type": "execute_result"
    }
   ],
   "source": [
    "data"
   ]
  },
  {
   "cell_type": "code",
   "execution_count": 38,
   "id": "6c2c794d",
   "metadata": {},
   "outputs": [],
   "source": [
    "x = data.iloc[:,1:3].values\n",
    "y = data.iloc[:,0].values.reshape(-1,1)"
   ]
  },
  {
   "cell_type": "code",
   "execution_count": 39,
   "id": "4955566c",
   "metadata": {},
   "outputs": [
    {
     "data": {
      "text/plain": [
       "array([[ 2.15, 12.95],\n",
       "       [ 0.  ,  9.3 ],\n",
       "       [ 2.36, 14.16],\n",
       "       ...,\n",
       "       [ 0.  , 17.3 ],\n",
       "       [ 0.  ,  6.8 ],\n",
       "       [ 3.36, 20.16]])"
      ]
     },
     "execution_count": 39,
     "metadata": {},
     "output_type": "execute_result"
    }
   ],
   "source": [
    "x"
   ]
  },
  {
   "cell_type": "code",
   "execution_count": 40,
   "id": "1838fd80",
   "metadata": {},
   "outputs": [
    {
     "data": {
      "text/plain": [
       "array([[ 7. ],\n",
       "       [ 5. ],\n",
       "       [ 7.5],\n",
       "       ...,\n",
       "       [16. ],\n",
       "       [ 6. ],\n",
       "       [15. ]])"
      ]
     },
     "execution_count": 40,
     "metadata": {},
     "output_type": "execute_result"
    }
   ],
   "source": [
    "y"
   ]
  },
  {
   "cell_type": "code",
   "execution_count": 41,
   "id": "7c0880b6",
   "metadata": {},
   "outputs": [],
   "source": [
    "from sklearn.model_selection import train_test_split"
   ]
  },
  {
   "cell_type": "code",
   "execution_count": 42,
   "id": "f25a7cd9",
   "metadata": {},
   "outputs": [],
   "source": [
    "x_train,x_test,y_train,y_test = train_test_split(x,y,test_size=0.2,random_state=0)"
   ]
  },
  {
   "cell_type": "code",
   "execution_count": 43,
   "id": "16986f91",
   "metadata": {},
   "outputs": [
    {
     "data": {
      "text/plain": [
       "(5146, 2)"
      ]
     },
     "execution_count": 43,
     "metadata": {},
     "output_type": "execute_result"
    }
   ],
   "source": [
    "x_train.shape"
   ]
  },
  {
   "cell_type": "code",
   "execution_count": 44,
   "id": "0cef478a",
   "metadata": {},
   "outputs": [
    {
     "data": {
      "text/plain": [
       "(1287, 2)"
      ]
     },
     "execution_count": 44,
     "metadata": {},
     "output_type": "execute_result"
    }
   ],
   "source": [
    "x_test.shape"
   ]
  },
  {
   "cell_type": "code",
   "execution_count": 45,
   "id": "38ee3be2",
   "metadata": {},
   "outputs": [
    {
     "data": {
      "text/plain": [
       "(5146, 1)"
      ]
     },
     "execution_count": 45,
     "metadata": {},
     "output_type": "execute_result"
    }
   ],
   "source": [
    "y_train.shape"
   ]
  },
  {
   "cell_type": "code",
   "execution_count": 46,
   "id": "37d8ef91",
   "metadata": {},
   "outputs": [
    {
     "data": {
      "text/plain": [
       "(1287, 1)"
      ]
     },
     "execution_count": 46,
     "metadata": {},
     "output_type": "execute_result"
    }
   ],
   "source": [
    "y_test.shape"
   ]
  },
  {
   "cell_type": "code",
   "execution_count": 47,
   "id": "2cdbd3cd",
   "metadata": {},
   "outputs": [],
   "source": [
    "from sklearn.linear_model import LinearRegression"
   ]
  },
  {
   "cell_type": "code",
   "execution_count": 48,
   "id": "2eb3952a",
   "metadata": {},
   "outputs": [],
   "source": [
    "lm=LinearRegression()"
   ]
  },
  {
   "cell_type": "code",
   "execution_count": 49,
   "id": "cee5189c",
   "metadata": {},
   "outputs": [
    {
     "data": {
      "text/plain": [
       "LinearRegression()"
      ]
     },
     "execution_count": 49,
     "metadata": {},
     "output_type": "execute_result"
    }
   ],
   "source": [
    "lm.fit(x_train,y_train)"
   ]
  },
  {
   "cell_type": "code",
   "execution_count": 50,
   "id": "49913294",
   "metadata": {},
   "outputs": [],
   "source": [
    "y_pred = lm.predict(x_test)"
   ]
  },
  {
   "cell_type": "code",
   "execution_count": 51,
   "id": "ae598289",
   "metadata": {},
   "outputs": [
    {
     "data": {
      "text/plain": [
       "array([[57.26705185],\n",
       "       [15.31609627],\n",
       "       [ 6.63869592],\n",
       "       ...,\n",
       "       [ 5.88476314],\n",
       "       [ 5.68948537],\n",
       "       [ 5.21488009]])"
      ]
     },
     "execution_count": 51,
     "metadata": {},
     "output_type": "execute_result"
    }
   ],
   "source": [
    "y_pred"
   ]
  },
  {
   "cell_type": "code",
   "execution_count": 55,
   "id": "3393fb47",
   "metadata": {},
   "outputs": [],
   "source": [
    "check=dr.DataFrame(y_test,columns=['Actual fare'])"
   ]
  },
  {
   "cell_type": "code",
   "execution_count": 56,
   "id": "29a58839",
   "metadata": {},
   "outputs": [],
   "source": [
    "check['predicted fare'] = y_pred"
   ]
  },
  {
   "cell_type": "code",
   "execution_count": 57,
   "id": "8f5fc0ba",
   "metadata": {},
   "outputs": [
    {
     "data": {
      "text/html": [
       "<div>\n",
       "<style scoped>\n",
       "    .dataframe tbody tr th:only-of-type {\n",
       "        vertical-align: middle;\n",
       "    }\n",
       "\n",
       "    .dataframe tbody tr th {\n",
       "        vertical-align: top;\n",
       "    }\n",
       "\n",
       "    .dataframe thead th {\n",
       "        text-align: right;\n",
       "    }\n",
       "</style>\n",
       "<table border=\"1\" class=\"dataframe\">\n",
       "  <thead>\n",
       "    <tr style=\"text-align: right;\">\n",
       "      <th></th>\n",
       "      <th>Actual fare</th>\n",
       "      <th>predicted fare</th>\n",
       "    </tr>\n",
       "  </thead>\n",
       "  <tbody>\n",
       "    <tr>\n",
       "      <th>0</th>\n",
       "      <td>52.0</td>\n",
       "      <td>57.267052</td>\n",
       "    </tr>\n",
       "    <tr>\n",
       "      <th>1</th>\n",
       "      <td>16.0</td>\n",
       "      <td>15.316096</td>\n",
       "    </tr>\n",
       "    <tr>\n",
       "      <th>2</th>\n",
       "      <td>6.0</td>\n",
       "      <td>6.638696</td>\n",
       "    </tr>\n",
       "    <tr>\n",
       "      <th>3</th>\n",
       "      <td>5.0</td>\n",
       "      <td>5.249333</td>\n",
       "    </tr>\n",
       "    <tr>\n",
       "      <th>4</th>\n",
       "      <td>17.0</td>\n",
       "      <td>16.674312</td>\n",
       "    </tr>\n",
       "    <tr>\n",
       "      <th>...</th>\n",
       "      <td>...</td>\n",
       "      <td>...</td>\n",
       "    </tr>\n",
       "    <tr>\n",
       "      <th>1282</th>\n",
       "      <td>7.0</td>\n",
       "      <td>7.325508</td>\n",
       "    </tr>\n",
       "    <tr>\n",
       "      <th>1283</th>\n",
       "      <td>5.5</td>\n",
       "      <td>4.265670</td>\n",
       "    </tr>\n",
       "    <tr>\n",
       "      <th>1284</th>\n",
       "      <td>5.5</td>\n",
       "      <td>5.884763</td>\n",
       "    </tr>\n",
       "    <tr>\n",
       "      <th>1285</th>\n",
       "      <td>5.0</td>\n",
       "      <td>5.689485</td>\n",
       "    </tr>\n",
       "    <tr>\n",
       "      <th>1286</th>\n",
       "      <td>6.0</td>\n",
       "      <td>5.214880</td>\n",
       "    </tr>\n",
       "  </tbody>\n",
       "</table>\n",
       "<p>1287 rows × 2 columns</p>\n",
       "</div>"
      ],
      "text/plain": [
       "      Actual fare  predicted fare\n",
       "0            52.0       57.267052\n",
       "1            16.0       15.316096\n",
       "2             6.0        6.638696\n",
       "3             5.0        5.249333\n",
       "4            17.0       16.674312\n",
       "...           ...             ...\n",
       "1282          7.0        7.325508\n",
       "1283          5.5        4.265670\n",
       "1284          5.5        5.884763\n",
       "1285          5.0        5.689485\n",
       "1286          6.0        5.214880\n",
       "\n",
       "[1287 rows x 2 columns]"
      ]
     },
     "execution_count": 57,
     "metadata": {},
     "output_type": "execute_result"
    }
   ],
   "source": [
    "check"
   ]
  },
  {
   "cell_type": "code",
   "execution_count": 59,
   "id": "9dc2e598",
   "metadata": {},
   "outputs": [
    {
     "data": {
      "image/png": "[encoded data removed]",
      "text/plain": [
       "<Figure size 432x288 with 1 Axes>"
      ]
     },
     "metadata": {
      "needs_background": "light"
     },
     "output_type": "display_data"
    }
   ],
   "source": [
    "plt.scatter(y_test,y_test,color='red')\n",
    "plt.plot(x_test,y_pred,color='green')\n",
    "plt.title(' Multiple LinearRegression')\n",
    "plt.xlabel('fare')\n",
    "plt.ylabel('tip')\n",
    "plt.show()\n"
   ]
  },
  {
   "cell_type": "code",
   "execution_count": 60,
   "id": "cc0e63a9",
   "metadata": {},
   "outputs": [],
   "source": [
    "from sklearn.metrics import mean_squared_error,mean_absolute_error,r2_score"
   ]
  },
  {
   "cell_type": "code",
   "execution_count": 61,
   "id": "c40a1078",
   "metadata": {},
   "outputs": [
    {
     "data": {
      "text/plain": [
       "2.4086808726467046"
      ]
     },
     "execution_count": 61,
     "metadata": {},
     "output_type": "execute_result"
    }
   ],
   "source": [
    "mean_squared_error(y_test,y_pred)"
   ]
  },
  {
   "cell_type": "code",
   "execution_count": 62,
   "id": "fd8d47e1",
   "metadata": {},
   "outputs": [
    {
     "data": {
      "text/plain": [
       "1.014193568322547"
      ]
     },
     "execution_count": 62,
     "metadata": {},
     "output_type": "execute_result"
    }
   ],
   "source": [
    "mean_absolute_error(y_test,y_pred)"
   ]
  },
  {
   "cell_type": "code",
   "execution_count": 63,
   "id": "272a9bd1",
   "metadata": {},
   "outputs": [
    {
     "data": {
      "text/plain": [
       "0.9846575106725431"
      ]
     },
     "execution_count": 63,
     "metadata": {},
     "output_type": "execute_result"
    }
   ],
   "source": [
    "r2_score(y_test,y_pred)"
   ]
  },
  {
   "cell_type": "code",
   "execution_count": null,
   "id": "3c4899a7",
   "metadata": {},
   "outputs": [],
   "source": []
  }
 ],
 "metadata": {
  "kernelspec": {
   "display_name": "Python 3",
   "language": "python",
   "name": "python3"
  },
  "language_info": {
   "codemirror_mode": {
    "name": "ipython",
    "version": 3
   },
   "file_extension": ".py",
   "mimetype": "text/x-python",
   "name": "python",
   "nbconvert_exporter": "python",
   "pygments_lexer": "ipython3",
   "version": "3.8.8"
  }
 },
 "nbformat": 4,
 "nbformat_minor": 5
}
